{
 "cells": [
  {
   "cell_type": "code",
   "execution_count": 1,
   "metadata": {},
   "outputs": [
    {
     "name": "stdout",
     "output_type": "stream",
     "text": [
      "{'response': 'Processed query: Query 1'}\n",
      "{'response': 'Processed query: Query 2'}\n",
      "{'response': 'Processed query: Query 3'}\n",
      "{'response': 'Processed query: Query 4'}\n",
      "{'response': 'Processed query: Query 5'}\n",
      "{'response': 'Processed query: Query 6'}\n",
      "{'error': 'Rate limit exceeded'}\n",
      "{'error': 'Rate limit exceeded'}\n",
      "{'error': 'Rate limit exceeded'}\n",
      "{'error': 'Rate limit exceeded'}\n",
      "{'error': 'Rate limit exceeded'}\n",
      "{'response': 'Processed query: Query 7'}\n"
     ]
    }
   ],
   "source": [
    "import requests\n",
    "import time\n",
    "\n",
    "SERVER_URL = 'http://127.0.0.1:5000/query'\n",
    "\n",
    "# Function to send a query request\n",
    "def send_query(query_data):\n",
    "    response = requests.post(SERVER_URL, json={\"query\": query_data})\n",
    "    return response.json()\n",
    "\n",
    "# Simulate queries with different IPs\n",
    "def test_rate_limiting():\n",
    "    # Send 5 requests to stay within the rate limit\n",
    "    for i in range(10):\n",
    "        response = send_query(f\"Query {i+1}\")\n",
    "        print(response)\n",
    "        time.sleep(1)  # Simulate time between requests\n",
    "\n",
    "    # Send 6th request to exceed the rate limit\n",
    "    response = send_query(\"Query 6\")\n",
    "    print(response)\n",
    "\n",
    "    # Wait for the rate limiting window to reset\n",
    "    time.sleep(60)\n",
    "\n",
    "    # Send another request after the rate limiting window has reset\n",
    "    response = send_query(\"Query 7\")\n",
    "    print(response)\n",
    "\n",
    "if __name__ == \"__main__\":\n",
    "    test_rate_limiting()"
   ]
  },
  {
   "cell_type": "code",
   "execution_count": null,
   "metadata": {},
   "outputs": [],
   "source": []
  }
 ],
 "metadata": {
  "kernelspec": {
   "display_name": "Python 3.11",
   "language": "python",
   "name": "python3.11"
  },
  "language_info": {
   "codemirror_mode": {
    "name": "ipython",
    "version": 3
   },
   "file_extension": ".py",
   "mimetype": "text/x-python",
   "name": "python",
   "nbconvert_exporter": "python",
   "pygments_lexer": "ipython3",
   "version": "3.11.5"
  }
 },
 "nbformat": 4,
 "nbformat_minor": 4
}
